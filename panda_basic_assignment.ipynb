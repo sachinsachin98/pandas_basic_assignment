{
 "cells": [
  {
   "cell_type": "code",
   "execution_count": 1,
   "id": "da8c9f0a-a72c-4141-9302-f08276a1de18",
   "metadata": {},
   "outputs": [],
   "source": [
    "#1\n",
    "import pandas as pd"
   ]
  },
  {
   "cell_type": "code",
   "execution_count": 4,
   "id": "54faf259-74b0-4517-a20b-328e594c19c8",
   "metadata": {},
   "outputs": [
    {
     "name": "stdout",
     "output_type": "stream",
     "text": [
      "0     4\n",
      "1     8\n",
      "2    15\n",
      "3    16\n",
      "4    23\n",
      "5    42\n",
      "dtype: int64\n"
     ]
    }
   ],
   "source": [
    "l = [4, 8, 15, 16, 23, 42]\n",
    "\n",
    "df = pd.Series(l)\n",
    "print(df)"
   ]
  },
  {
   "cell_type": "code",
   "execution_count": 5,
   "id": "1e61dec8-0feb-4ab5-b93d-e282e615171b",
   "metadata": {},
   "outputs": [
    {
     "name": "stdout",
     "output_type": "stream",
     "text": [
      "0      tiger\n",
      "1       lion\n",
      "2      whale\n",
      "3       orca\n",
      "4      hyena\n",
      "5     jackal\n",
      "6        bee\n",
      "7    sparrow\n",
      "8      eagle\n",
      "9    vulture\n",
      "dtype: object\n"
     ]
    }
   ],
   "source": [
    "#2\n",
    "variable = ['tiger', 'lion', 'whale', 'orca','hyena','jackal', 'bee', 'sparrow', 'eagle','vulture' ]\n",
    "\n",
    "df1 = pd.Series(variable)\n",
    "\n",
    "print(df1)"
   ]
  },
  {
   "cell_type": "code",
   "execution_count": 6,
   "id": "e284df7a-538f-445c-9fa2-fbdc8991d463",
   "metadata": {},
   "outputs": [
    {
     "name": "stdout",
     "output_type": "stream",
     "text": [
      "     Name  Age  Gender\n",
      "0   Alice   25  Female\n",
      "1     bob   30    Male\n",
      "2  Claire   27  Female\n"
     ]
    }
   ],
   "source": [
    "#Q3\n",
    "data = {\n",
    "    'Name': ['Alice', 'bob', 'Claire'],\n",
    "    'Age': [25,30,27],\n",
    "    'Gender': ['Female', 'Male', 'Female']\n",
    "}\n",
    "\n",
    "df2 = pd.DataFrame(data)\n",
    "print(df2)"
   ]
  },
  {
   "cell_type": "markdown",
   "id": "ec476055-49a1-4f49-b91f-e69dbb283b40",
   "metadata": {},
   "source": [
    "#Q4\n",
    "In Pandas, a DataFrame is a 2-dimensional labeled data structure that resembles a table or a spreadsheet, consisting of rows and columns. It is one of the primary data structures provided by the Pandas library for data manipulation and analysis. A DataFrame can hold heterogeneous types of data and is very versatile for working with structured data.\n",
    "\n",
    "On the other hand, a Series is a 1-dimensional labeled array, similar to a column in a spreadsheet or a single attribute in a database table. A Series can be thought of as a single column of data with an associated label (index). It is a fundamental building block in Pandas and forms the columns of a DataFrame."
   ]
  },
  {
   "cell_type": "code",
   "execution_count": 12,
   "id": "2bf92ae5-a20d-47cf-bce1-7ce8ef15ef58",
   "metadata": {},
   "outputs": [
    {
     "name": "stdout",
     "output_type": "stream",
     "text": [
      "   Name  Age    City\n",
      "0  Aman   29   delhi\n",
      "1  sach   30     ban\n",
      "2   kum   31  raipur\n",
      "0    29\n",
      "1    30\n",
      "2    31\n",
      "Name: Age, dtype: int64\n"
     ]
    }
   ],
   "source": [
    "#DataFrame\n",
    "data = {\n",
    "    'Name': ['Aman', 'sach', 'kum'],\n",
    "    'Age': [29, 30, 31],\n",
    "    'City': ['delhi', 'ban', 'raipur']\n",
    "}\n",
    "\n",
    "df3 = pd.DataFrame(data)\n",
    "print(df3)\n",
    "\n",
    "#Series\n",
    "age_series = df['Age']\n",
    "print(age_series)"
   ]
  },
  {
   "cell_type": "code",
   "execution_count": 11,
   "id": "e1fc6b18-5932-481e-beff-dac3eeb0fa7e",
   "metadata": {},
   "outputs": [
    {
     "name": "stdout",
     "output_type": "stream",
     "text": [
      "<class 'pandas.core.frame.DataFrame'>\n",
      "RangeIndex: 3 entries, 0 to 2\n",
      "Data columns (total 3 columns):\n",
      " #   Column  Non-Null Count  Dtype \n",
      "---  ------  --------------  ----- \n",
      " 0   Name    3 non-null      object\n",
      " 1   Age     3 non-null      int64 \n",
      " 2   City    3 non-null      object\n",
      "dtypes: int64(1), object(2)\n",
      "memory usage: 200.0+ bytes\n",
      "None\n",
      "        Age\n",
      "count   3.0\n",
      "mean   30.0\n",
      "std     1.0\n",
      "min    29.0\n",
      "25%    29.5\n",
      "50%    30.0\n",
      "75%    30.5\n",
      "max    31.0\n",
      "   Name  Age    City\n",
      "0  Aman   29   delhi\n",
      "1  sach   30     ban\n",
      "2   kum   31  raipur\n",
      "   Name  Age    City\n",
      "0  Aman   29   delhi\n",
      "1  sach   30     ban\n",
      "2   kum   31  raipur\n",
      "RangeIndex(start=0, stop=3, step=1)\n",
      "Index(['Name', 'Age', 'City'], dtype='object')\n"
     ]
    }
   ],
   "source": [
    "#Q5\n",
    "df\n",
    "\n",
    "print(df.info()) \n",
    "\n",
    "print(df.describe()) \n",
    "\n",
    "print(df.head()) \n",
    "\n",
    "print(df.tail())\n",
    "\n",
    "print(df.index) \n",
    "\n",
    "print(df.columns )"
   ]
  },
  {
   "cell_type": "markdown",
   "id": "2396e5f9-a73c-45ea-b5fd-71d4ef9df388",
   "metadata": {},
   "source": [
    "#Q6\n",
    "Among the options provided, both Series and DataFrame are mutable in nature.\n",
    "\n",
    "Series: A Series is mutable because you can change its values or modify its contents after creation. You can update individual elements in a Series using indexing.\n",
    "\n",
    "DataFrame: A DataFrame is also mutable. You can modify its contents by adding, updating, or removing rows and columns. You can change values in individual cells, add new columns, drop columns, and perform various other operations to modify the DataFrame."
   ]
  },
  {
   "cell_type": "code",
   "execution_count": 14,
   "id": "a52e6e5d-c10c-4038-85a2-2b6baf088ea8",
   "metadata": {},
   "outputs": [
    {
     "name": "stdout",
     "output_type": "stream",
     "text": [
      "      Name  Age       City\n",
      "0   sonali   27      bihar\n",
      "1    ankit   25      delhi\n",
      "2  shubham   29  rajasthan\n"
     ]
    }
   ],
   "source": [
    "#Q7\n",
    "name = pd.Series(['sonali', 'ankit', 'shubham'])\n",
    "age = pd.Series([27, 25, 29])\n",
    "city = pd.Series(['bihar', 'delhi', 'rajasthan'])\n",
    "\n",
    "data = {\n",
    "    'Name': name,\n",
    "    'Age': age,\n",
    "    'City': city\n",
    "}\n",
    "\n",
    "df4 = pd.DataFrame(data)\n",
    "print(df4)\n"
   ]
  },
  {
   "cell_type": "code",
   "execution_count": null,
   "id": "0d4f976c-dd96-4730-9e80-887d42814f77",
   "metadata": {},
   "outputs": [],
   "source": []
  }
 ],
 "metadata": {
  "kernelspec": {
   "display_name": "Python 3 (ipykernel)",
   "language": "python",
   "name": "python3"
  },
  "language_info": {
   "codemirror_mode": {
    "name": "ipython",
    "version": 3
   },
   "file_extension": ".py",
   "mimetype": "text/x-python",
   "name": "python",
   "nbconvert_exporter": "python",
   "pygments_lexer": "ipython3",
   "version": "3.10.8"
  }
 },
 "nbformat": 4,
 "nbformat_minor": 5
}
